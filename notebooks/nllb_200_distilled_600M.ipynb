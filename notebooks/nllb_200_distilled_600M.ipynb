{
  "nbformat": 4,
  "nbformat_minor": 0,
  "metadata": {
    "colab": {
      "machine_shape": "hm",
      "gpuType": "T4",
      "provenance": []
    },
    "accelerator": "GPU",
    "kaggle": {
      "accelerator": "gpu"
    },
    "language_info": {
      "name": "python"
    },
    "kernelspec": {
      "name": "python3",
      "display_name": "Python 3"
    }
  },
  "cells": [
    {
      "cell_type": "code",
      "source": [
        "!pip install -U transformers"
      ],
      "metadata": {
        "id": "BPzme5t2MSfL"
      },
      "execution_count": null,
      "outputs": []
    },
    {
      "cell_type": "markdown",
      "source": [
        "Model page: https://huggingface.co/facebook/nllb-200-distilled-600M\n",
        "\n",
        "⚠️ If the generated code snippets do not work, please open an issue on either the [model repo](https://huggingface.co/facebook/nllb-200-distilled-600M)\n",
        "\t\t\tand/or on [huggingface.js](https://github.com/huggingface/huggingface.js/blob/main/packages/tasks/src/model-libraries-snippets.ts) 🙏"
      ],
      "metadata": {
        "id": "tyBHmoTeMSfM"
      }
    },
    {
      "cell_type": "code",
      "source": [
        "# Load model directly\n",
        "from transformers import AutoTokenizer, AutoModelForSeq2SeqLM\n",
        "\n",
        "tokenizer = AutoTokenizer.from_pretrained(\"facebook/nllb-200-distilled-600M\")\n",
        "model = AutoModelForSeq2SeqLM.from_pretrained(\"facebook/nllb-200-distilled-600M\")"
      ],
      "metadata": {
        "id": "nel-mJhvMSfN"
      },
      "execution_count": null,
      "outputs": []
    },
    {
      "cell_type": "code",
      "source": [
        "from transformers import pipeline\n",
        "\n",
        "ODIA_LANG_CODE = \"ory_Orya\"\n",
        "GERMAN_LANG_CODE = \"deu_Latn\"\n",
        "\n",
        "translator = pipeline(\n",
        "    \"translation\",\n",
        "    model=model,\n",
        "    tokenizer=tokenizer,\n",
        "    src_lang=ODIA_LANG_CODE,\n",
        "    tgt_lang=GERMAN_LANG_CODE,\n",
        ")"
      ],
      "metadata": {
        "id": "CnCjOIRlPuGp"
      },
      "execution_count": null,
      "outputs": []
    },
    {
      "cell_type": "code",
      "source": [
        "# PERFORM TRANSLATION\n",
        "# --- Example 1: Odia to German (The Default Direction) ---\n",
        "PREFIX_ORI_TO_DEU = \"translate Odia to German: \"\n",
        "PREFIX_DEU_TO_ORI = \"translate German to Odia: \"\n",
        "\n",
        "odia_input_text = \"ମନ୍ତ୍ରୀ ଘୋଷଣା କଲେ ଯେ ଏହି ନୂଆ ରାଜପଥ ଆସନ୍ତା ବର୍ଷ ସୁଦ୍ଧା ସମ୍ପୂର୍ଣ୍ଣ ହେବ।\"\n",
        "full_input_od = PREFIX_ORI_TO_DEU + odia_input_text\n",
        "\n",
        "print(f\"\\nTranslating (Odia → German): '{odia_input_text}'\")\n",
        "\n",
        "# We no longer need to pass forced_bos_token_id. The pipeline uses its default.\n",
        "german_translation = translator(full_input_od, max_length=128)\n",
        "print(f\"Output: {german_translation[0]['translation_text']}\")"
      ],
      "metadata": {
        "id": "RJRw4XVfQOHg"
      },
      "execution_count": null,
      "outputs": []
    },
    {
      "cell_type": "code",
      "source": [
        "odia_input_text = \"ପ୍ରଧାନମନ୍ତ୍ରୀ କିଷାନ ସମ୍ମାନ ନିଧି ଯୋଜନା ଚାଷୀମାନଙ୍କୁ ଆର୍ଥିକ ସହାୟତା ପ୍ରଦାନ କରେ।\"\n",
        "full_input_od = PREFIX_ORI_TO_DEU + odia_input_text\n",
        "\n",
        "print(f\"\\nTranslating (Odia → German): '{odia_input_text}'\")\n",
        "\n",
        "# We no longer need to pass forced_bos_token_id. The pipeline uses its default.\n",
        "german_translation = translator(full_input_od, max_length=128)\n",
        "print(f\"Output: {german_translation[0]['translation_text']}\")"
      ],
      "metadata": {
        "id": "HuTff92Z8gD9"
      },
      "execution_count": null,
      "outputs": []
    },
    {
      "cell_type": "code",
      "source": [
        "# --- Example 2: German to Odia (Overriding the Default Direction) ---\n",
        "german_input_text = \"Die Feuerwehr musste zahlreiche Menschen mit Booten in Sicherheit bringen.\"\n",
        "full_input_de = PREFIX_DEU_TO_ORI + german_input_text\n",
        "\n",
        "print(f\"\\nTranslating (German → Odia): '{german_input_text}'\")\n",
        "odia_translation = translator(\n",
        "    full_input_de,\n",
        "    src_lang=GERMAN_LANG_CODE,\n",
        "    tgt_lang=ODIA_LANG_CODE,\n",
        "    max_length=128\n",
        ")\n",
        "print(f\"Output: {odia_translation[0]['translation_text']}\")"
      ],
      "metadata": {
        "id": "nH8yrF5MQRkl"
      },
      "execution_count": null,
      "outputs": []
    },
    {
      "cell_type": "code",
      "source": [],
      "metadata": {
        "id": "-sRlwW35QvVE"
      },
      "execution_count": null,
      "outputs": []
    }
  ]
}