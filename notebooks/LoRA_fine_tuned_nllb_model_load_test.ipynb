{
  "nbformat": 4,
  "nbformat_minor": 0,
  "metadata": {
    "colab": {
      "provenance": []
    },
    "kernelspec": {
      "name": "python3",
      "display_name": "Python 3"
    },
    "language_info": {
      "name": "python"
    }
  },
  "cells": [
    {
      "cell_type": "code",
      "execution_count": null,
      "metadata": {
        "id": "Z9pitVFF064C"
      },
      "outputs": [],
      "source": [
        "from transformers import pipeline"
      ]
    },
    {
      "cell_type": "code",
      "source": [
        "# Load the translation pipeline with your fine-tuned model\n",
        "model_id = \"abhinandansamal/nllb-200-distilled-600M-LoRA-finetuned-odia-german-bidirectional\"\n",
        "translator = pipeline(\"translation\", model=model_id, device_map=\"auto\")"
      ],
      "metadata": {
        "id": "lFghQ-k007oT"
      },
      "execution_count": null,
      "outputs": []
    },
    {
      "cell_type": "code",
      "source": [
        "# --- Example 1: Translate Odia to German ---\n",
        "odia_text = \"ଆଜି ପାଗ ବହୁତ ଭଲ ଅଛି।\"\n",
        "\n",
        "german_translation = translator(\n",
        "    odia_text,\n",
        "    src_lang=\"ory_Orya\",\n",
        "    tgt_lang=\"deu_Latn\"\n",
        ")\n",
        "print(f\"Odia Input: {odia_text}\")\n",
        "print(f\"German Output: {german_translation[0]['translation_text']}\")\n",
        "# Expected Output: Heute ist das Wetter sehr gut."
      ],
      "metadata": {
        "id": "5kRoKUxb1ADi"
      },
      "execution_count": null,
      "outputs": []
    },
    {
      "cell_type": "code",
      "source": [
        "# --- Example 2: Translate German to Odia ---\n",
        "german_text = \"Wie ist deine Gesundheit?\"\n",
        "\n",
        "odia_translation = translator(\n",
        "    german_text,\n",
        "    src_lang=\"deu_Latn\",\n",
        "    tgt_lang=\"ory_Orya\"\n",
        ")\n",
        "print(f\"\\nGerman Input: {german_text}\")\n",
        "print(f\"Odia Output: {odia_translation[0]['translation_text']}\")\n",
        "# Expected Output: ତୁମର ସ୍ବାସ୍ଥ୍ୟ ଅବସ୍ଥା କ'ଣ?"
      ],
      "metadata": {
        "id": "0NGYw55J1COT"
      },
      "execution_count": null,
      "outputs": []
    },
    {
      "cell_type": "code",
      "source": [],
      "metadata": {
        "id": "cyQ0ytBg3XNd"
      },
      "execution_count": null,
      "outputs": []
    }
  ]
}